{
 "cells": [
  {
   "cell_type": "markdown",
   "id": "ac040a78",
   "metadata": {},
   "source": [
    "# Mon carnet\n"
   ]
  },
  {
   "cell_type": "markdown",
   "id": "d2858dcf",
   "metadata": {},
   "source": [
    "## Introduction\n",
    "Dans ce carnet, nous allons explorer les différents outils et langages utilisés en science des données.\n"
   ]
  },
  {
   "cell_type": "markdown",
   "id": "81fc137c",
   "metadata": {},
   "source": [
    "## Langages de la Science des Données\n",
    "- Python\n",
    "- R\n",
    "- SQL\n",
    "- Julia\n",
    "- Scala\n"
   ]
  },
  {
   "cell_type": "markdown",
   "id": "21d122e1",
   "metadata": {},
   "source": [
    "## Bibliothèques de la Science des Données\n",
    "- Pandas\n",
    "- NumPy\n",
    "- Matplotlib\n",
    "- Scikit-learn\n",
    "- TensorFlow\n"
   ]
  },
  {
   "cell_type": "markdown",
   "id": "58be1ba4",
   "metadata": {},
   "source": [
    "## Outils de la Science des Données\n",
    "| Outil           | Description                         |\n",
    "|-----------------|-------------------------------------|\n",
    "| Jupyter         | Environnement interactif pour le code |\n",
    "| GitHub          | Plateforme pour le partage de code  |\n",
    "| Docker          | Outil de conteneurisation            |\n",
    "| Tableau         | Outil de visualisation de données   |\n",
    "| BigML           | Plateforme de Machine Learning      |\n"
   ]
  },
  {
   "cell_type": "markdown",
   "id": "dece4280",
   "metadata": {},
   "source": [
    "## Exemples d'Expressions Arithmétiques\n",
    "Voici quelques exemples d'expressions arithmétiques en Python :\n",
    "```python\n",
    "a = 5 + 3  # Addition\n",
    "b = 10 - 4  # Soustraction\n",
    "c = 6 * 2  # Multiplication\n",
    "d = 12 / 4  # Division\n"
   ]
  },
  {
   "cell_type": "code",
   "execution_count": 3,
   "id": "8e8eb385",
   "metadata": {},
   "outputs": [
    {
     "data": {
      "text/plain": [
       "(10, 24)"
      ]
     },
     "execution_count": 3,
     "metadata": {},
     "output_type": "execute_result"
    }
   ],
   "source": [
    "# Multiplication et addition\n",
    "x = 6\n",
    "y = 4\n",
    "addition = x + y\n",
    "multiplication = x * y\n",
    "\n",
    "addition, multiplication\n"
   ]
  },
  {
   "cell_type": "code",
   "execution_count": 4,
   "id": "bb23316c",
   "metadata": {},
   "outputs": [
    {
     "data": {
      "text/plain": [
       "(2, 5)"
      ]
     },
     "execution_count": 4,
     "metadata": {},
     "output_type": "execute_result"
    }
   ],
   "source": [
    "# Conversion de minutes en heures\n",
    "def convertir_minutes_en_heures(minutes):\n",
    "    heures = minutes // 60\n",
    "    minutes_restantes = minutes % 60\n",
    "    return heures, minutes_restantes\n",
    "\n",
    "convertir_minutes_en_heures(125)  # Exemple avec 125 minutes\n"
   ]
  },
  {
   "cell_type": "markdown",
   "id": "860b063f",
   "metadata": {},
   "source": [
    "## Objectifs\n",
    "- Apprendre les bases de la science des données\n",
    "- Découvrir les outils et langages de la science des données\n",
    "- Acquérir des compétences pratiques dans l'utilisation de Jupyterlite\n"
   ]
  },
  {
   "cell_type": "markdown",
   "id": "46c31800",
   "metadata": {},
   "source": [
    "## Auteur\n",
    "Ce carnet a été créé par Fayssal Zakaria.\n"
   ]
  },
  {
   "cell_type": "code",
   "execution_count": null,
   "id": "638dc049",
   "metadata": {},
   "outputs": [],
   "source": []
  }
 ],
 "metadata": {
  "kernelspec": {
   "display_name": "Python 3 (ipykernel)",
   "language": "python",
   "name": "python3"
  },
  "language_info": {
   "codemirror_mode": {
    "name": "ipython",
    "version": 3
   },
   "file_extension": ".py",
   "mimetype": "text/x-python",
   "name": "python",
   "nbconvert_exporter": "python",
   "pygments_lexer": "ipython3",
   "version": "3.10.9"
  }
 },
 "nbformat": 4,
 "nbformat_minor": 5
}
